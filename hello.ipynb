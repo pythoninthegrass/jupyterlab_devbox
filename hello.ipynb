{
 "cells": [
  {
   "cell_type": "code",
   "execution_count": null,
   "metadata": {},
   "outputs": [],
   "source": [
    "from python import Python\n",
    "\n",
    "try:\n",
    "    var builtins = Python.import_module(\"builtins\")\n",
    "    var name = str(builtins.input(\"What is your name? \"))\n",
    "    if len(name) == 0:\n",
    "        name = \"World\"  # mutate the variable\n",
    "    print(\"Hello,\", name)\n",
    "except:\n",
    "    print(\"Unable to import Python module 'builtins'\")"
   ]
  }
 ],
 "metadata": {
  "kernelspec": {
   "display_name": "Mojo",
   "language": "mojo",
   "name": "mojo-jupyter-kernel"
  },
  "language_info": {
   "codemirror_mode": {
    "name": "mojo"
   },
   "file_extension": ".mojo",
   "mimetype": "text/x-mojo",
   "name": "mojo"
  }
 },
 "nbformat": 4,
 "nbformat_minor": 4
}
